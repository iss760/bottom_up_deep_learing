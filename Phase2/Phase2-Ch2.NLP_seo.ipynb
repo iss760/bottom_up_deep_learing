{
 "cells": [
  {
   "cell_type": "markdown",
   "metadata": {},
   "source": [
    "# 자연어와 단어의 분산 표현"
   ]
  },
  {
   "cell_type": "markdown",
   "metadata": {},
   "source": [
    "### 1. 단어의 의미\n",
    "우리의 말은 '문자'로 말의 의미는 '단어'로 구성, 단어의 의미를 이해 시키는 것이 이번 장에 목적\n",
    "- 시소러스를 활용한 기법\n",
    "- 통계기반 기법\n",
    "- 추론기반 기법(word2vec과 같은)"
   ]
  },
  {
   "cell_type": "markdown",
   "metadata": {},
   "source": [
    "### 2. 시소러스\n",
    "시소러스란 (기본적으로는) 유의어 사전으로, '뜻이 같은 단어(동의어)'나 '뜻이 비슷한 단어(유의어)'가 한그룹으로 분류되어 있음. 또한 자연어처리에 활용되는 시소러스에서는 단어 사이의 '상위와 하위', '전체와 부분' 등 더 세세한 정의가 포함되기도 함\n",
    "\n",
    "- 가장 유명한 시소러스는 WordNet\n",
    "    - 1985년 구축을 시작, 지금까지 많은 연구와 다양한 어플리케이션에 활용\n",
    "- 시소러스에 문제점\n",
    "    - 사람이 수작업으로 레이블링하는 방식에 크나큰 결점이 존재함\n",
    "    - 시대변화에 적응이 어려움 (신조어 등)\n",
    "    - 사람을 쓰는 비용이 큼\n",
    "    - 단어의 미묘한 차이를 표현 불가 (빈티지와 레트로의 차이)"
   ]
  },
  {
   "cell_type": "markdown",
   "metadata": {},
   "source": [
    "### 3. 통계기반 기법\n",
    "통계기반 기법의 목표는 사람의 지식으로 가득한 말뭉치(corpus)에서 자동으로, 그리고 효율적으로 그 핵심을 추출하는 것"
   ]
  },
  {
   "cell_type": "code",
   "execution_count": 6,
   "metadata": {},
   "outputs": [
    {
     "data": {
      "text/plain": [
       "'you say goodbye and i say hello .'"
      ]
     },
     "execution_count": 6,
     "metadata": {},
     "output_type": "execute_result"
    }
   ],
   "source": [
    "text = \"You say goodbye and I say hello.\"\n",
    "\n",
    "# 텍스트 전처리\n",
    "text = text.lower()\n",
    "text = text.replace('.', ' .')\n",
    "text"
   ]
  },
  {
   "cell_type": "code",
   "execution_count": 7,
   "metadata": {},
   "outputs": [
    {
     "data": {
      "text/plain": [
       "['you', 'say', 'goodbye', 'and', 'i', 'say', 'hello', '.']"
      ]
     },
     "execution_count": 7,
     "metadata": {},
     "output_type": "execute_result"
    }
   ],
   "source": [
    "# 단어로 분할\n",
    "words = text.split(' ')\n",
    "words"
   ]
  },
  {
   "cell_type": "code",
   "execution_count": 8,
   "metadata": {},
   "outputs": [
    {
     "name": "stdout",
     "output_type": "stream",
     "text": [
      "{0: 'you', 1: 'say', 2: 'goodbye', 3: 'and', 4: 'i', 5: 'hello', 6: '.'}\n",
      "{'you': 0, 'say': 1, 'goodbye': 2, 'and': 3, 'i': 4, 'hello': 5, '.': 6}\n"
     ]
    }
   ],
   "source": [
    "word2id = {}\n",
    "id2word = {}\n",
    "\n",
    "for word in words:\n",
    "    if word not in word2id:\n",
    "        new_id = len(word2id)\n",
    "        word2id[word] = new_id\n",
    "        id2word[new_id] = word\n",
    "\n",
    "print(id2word)\n",
    "print(word2id)"
   ]
  },
  {
   "cell_type": "code",
   "execution_count": 9,
   "metadata": {},
   "outputs": [
    {
     "data": {
      "text/plain": [
       "array([0, 1, 2, 3, 4, 1, 5, 6])"
      ]
     },
     "execution_count": 9,
     "metadata": {},
     "output_type": "execute_result"
    }
   ],
   "source": [
    "import numpy as np\n",
    "\n",
    "corpus = [word2id[w] for w in words]\n",
    "corpus = np.array(corpus)\n",
    "corpus"
   ]
  },
  {
   "cell_type": "code",
   "execution_count": 10,
   "metadata": {},
   "outputs": [],
   "source": [
    "# 전처리 함수\n",
    "def preprocess(text):\n",
    "    text = text.lower()\n",
    "    text = text.replace('.', ' .')\n",
    "    words = text.split(' ')\n",
    "    \n",
    "    word2id = {}\n",
    "    id2word = {}\n",
    "    for word in words:\n",
    "        if word not in word2id:\n",
    "            new_id = len(word2id)\n",
    "            word2id[word] = new_id\n",
    "            id2word[new_id] = word\n",
    "            \n",
    "    corpus = [word2id[w] for w in words]\n",
    "    \n",
    "    return corpus, word2id, id2word\n",
    "\n",
    "text = \"You say goodbye and I say hello.\"\n",
    "corpus, word2id, id2word = preprocess(text)"
   ]
  },
  {
   "cell_type": "markdown",
   "metadata": {},
   "source": [
    "#### 단어의 분산 표현\n",
    "'단어의 의미'를 정확하게 파악 할 수 있는 벡터 표현, 이를 자연어 처리에서는 분산표현이라 함"
   ]
  },
  {
   "cell_type": "markdown",
   "metadata": {},
   "source": [
    "#### 분포가설\n",
    "단어를 벡터로 바꾸는 연구는 수도 없이 이루어지며 그 뿌리는 '단어의 의미는 주변 단어에 의해 형성된다' 라는 것. 이를 분포가설이라 함. 이는 단어 자체에는 의미가 없고 그 단어가 사용되는 맥락이 의미를 형성한다는 것을 뜻함"
   ]
  },
  {
   "cell_type": "markdown",
   "metadata": {},
   "source": [
    "#### 동시발생 행렬\n",
    "어떤 단어에 주목 했을 때, 그 주변에 어떤 단어가 몇 번이나 등장하는지를 세어 집게하는 것. 이를 통계기반 기법으로 함"
   ]
  },
  {
   "cell_type": "code",
   "execution_count": 11,
   "metadata": {},
   "outputs": [],
   "source": [
    "# 동시발생 행렬 제작 함수\n",
    "def creat_co_matrix(corpus, vocab_size, window_size=1):\n",
    "    corpus_size = len(corpus)\n",
    "    co_matrix = np.zeros((vocab_size, vocab_size), dtype=np.int32)\n",
    "    \n",
    "    for idx, word_id in enumerate(corpus):\n",
    "        for i in range(1, window_size+1):\n",
    "            left_idx = idx - 1\n",
    "            right_idx = idx + 1\n",
    "            \n",
    "            if left_idx >= 0:\n",
    "                left_word_id = corpus[left_idx]\n",
    "                co_matrix[word_id, left_word_id] += 1\n",
    "                \n",
    "            if right_idx < corpus_size:\n",
    "                right_word_id = corpus[right_idx]\n",
    "                co_matrix[word_id, right_word_id] += 1\n",
    "                \n",
    "    return co_matrix"
   ]
  },
  {
   "cell_type": "markdown",
   "metadata": {},
   "source": [
    "#### 벡터 간 유사도\n",
    "코사인 유사도를 사용"
   ]
  },
  {
   "cell_type": "code",
   "execution_count": 12,
   "metadata": {},
   "outputs": [],
   "source": [
    "def cos_similarity(x, y, eps=1e-8):\n",
    "    nx = x / (np.sqrt(np.sum(x**2)) + eps)\n",
    "    ny = y / (np.sqrt(np.sum(y**2)) + eps)\n",
    "    return np.dot(nx, ny)"
   ]
  },
  {
   "cell_type": "code",
   "execution_count": 13,
   "metadata": {},
   "outputs": [
    {
     "name": "stdout",
     "output_type": "stream",
     "text": [
      "0.7071067691154799\n"
     ]
    }
   ],
   "source": [
    "text = \"You say goodbye and I say hello.\"\n",
    "corpus, word2id, id2word = preprocess(text)\n",
    "vocab_size = len(word2id)\n",
    "C = creat_co_matrix(corpus, vocab_size)\n",
    "\n",
    "c0 = C[word2id['you']]\n",
    "c1 = C[word2id['i']]\n",
    "print(cos_similarity(c0, c1))"
   ]
  },
  {
   "cell_type": "markdown",
   "metadata": {},
   "source": [
    "#### 유사 단어의 랭킹 표시\n",
    "검색어와 비슷한 단어를 유사도 순으로 출력 구현"
   ]
  },
  {
   "cell_type": "code",
   "execution_count": 14,
   "metadata": {},
   "outputs": [
    {
     "name": "stdout",
     "output_type": "stream",
     "text": [
      "/n[query] you\n",
      " goodbye: [0.99999998 0.         0.70710677 0.         0.70710677 0.70710677\n",
      " 0.        ]\n",
      " i: [0.99999998 0.         0.70710677 0.         0.70710677 0.70710677\n",
      " 0.        ]\n",
      " hello: [0.99999998 0.         0.70710677 0.         0.70710677 0.70710677\n",
      " 0.        ]\n",
      " say: [0.99999998 0.         0.70710677 0.         0.70710677 0.70710677\n",
      " 0.        ]\n",
      " and: [0.99999998 0.         0.70710677 0.         0.70710677 0.70710677\n",
      " 0.        ]\n"
     ]
    }
   ],
   "source": [
    "def most_similar(query, word2id, id2word, word_matrix, top=5):\n",
    "    # 검색어를 꺼냄\n",
    "    if query not in word2id:\n",
    "        print('%s not find' %query)\n",
    "        return\n",
    "    \n",
    "    print('/n[query] ' + query)\n",
    "    query_id = word2id[query]\n",
    "    query_vec = word_matrix[query_id]\n",
    "    \n",
    "    # 코사인 유사도 계산\n",
    "    vocab_size = len(id2word)\n",
    "    similarity = np.zeros(vocab_size)\n",
    "    for i in range(vocab_size):\n",
    "        similarity[i] = cos_similarity(word_matrix[i], query_vec)\n",
    "        \n",
    "    # 코사인 유사도를 기준으로 내림차순으로 출력\n",
    "    count = 0\n",
    "    for i in (-1*similarity).argsort():\n",
    "        if id2word[i] == query:\n",
    "            continue\n",
    "        print(' %s: %s' %(id2word[i], similarity))\n",
    "        \n",
    "        count += 1\n",
    "        if count >= top:\n",
    "            return\n",
    "        \n",
    "text = \"You say goodbye and I say hello.\"\n",
    "corpus, word2id, id2word = preprocess(text)\n",
    "vocab_size = len(word2id)\n",
    "C = creat_co_matrix(corpus, vocab_size)\n",
    "\n",
    "most_similar('you', word2id, id2word, C, top=5)"
   ]
  },
  {
   "cell_type": "markdown",
   "metadata": {},
   "source": [
    "### 4. 통계 기반 기법 개선하기"
   ]
  },
  {
   "cell_type": "markdown",
   "metadata": {},
   "source": [
    "#### 상호정보량\n",
    "'발생 횟수'는 좋은 특징이 아님. (ex. 'the', 'car'의 동시발생 횟수는 많지만 의미가 적음) 이러한 문제를 해결하기 위해 점별 상호정보량(PMI) 척도를 사용\n",
    "- PMI(x,y) = log2(P(x,y)/(P(x)*P(y)))"
   ]
  },
  {
   "cell_type": "code",
   "execution_count": 15,
   "metadata": {},
   "outputs": [
    {
     "name": "stdout",
     "output_type": "stream",
     "text": [
      "동시발생 행렬\n",
      "[[0 1 0 0 0 0 0]\n",
      " [1 0 1 0 1 1 0]\n",
      " [0 1 0 1 0 0 0]\n",
      " [0 0 1 0 1 0 0]\n",
      " [0 1 0 1 0 0 0]\n",
      " [0 1 0 0 0 0 1]\n",
      " [0 0 0 0 0 1 0]]\n",
      "--------------------------------------------------\n",
      "PPMI\n",
      "[[0.    1.807 0.    0.    0.    0.    0.   ]\n",
      " [5.807 0.    4.807 0.    4.807 4.807 0.   ]\n",
      " [0.    2.807 0.    3.807 0.    0.    0.   ]\n",
      " [0.    0.    3.807 0.    3.807 0.    0.   ]\n",
      " [0.    2.807 0.    3.807 0.    0.    0.   ]\n",
      " [0.    2.807 0.    0.    0.    0.    4.807]\n",
      " [0.    0.    0.    0.    0.    2.807 0.   ]]\n"
     ]
    }
   ],
   "source": [
    "def ppmi(C, verbose=False, eps=1e-8):\n",
    "    M = np.zeros_like(C,  dtype=np.float32)\n",
    "    N = np.sum(C)\n",
    "    S = np.sum(C, axis=0)\n",
    "    total = C.shape[0] * C.shape[1]\n",
    "    cnt = 0\n",
    "    \n",
    "    for i in range(C.shape[0]):\n",
    "        for j in range(C.shape[1]):\n",
    "            pmi = np.log2(C[i, j] * N / S[j]*S[i] + eps)\n",
    "            M[i, j] = max(0, pmi)\n",
    "            \n",
    "            if verbose:\n",
    "                cnt += 1\n",
    "                if cnt % (total//100)  == 0:\n",
    "                    print('%.1f%% 완료' % (100*cnt/total))\n",
    "    return M\n",
    "\n",
    "text = \"You say goodbye and I say hello.\"\n",
    "corpus, word2id, id2word = preprocess(text)\n",
    "vocab_size = len(word2id)\n",
    "C = creat_co_matrix(corpus, vocab_size)\n",
    "W = ppmi(C)\n",
    "\n",
    "np.set_printoptions(precision=3)   ### 유효 자릿수를 세 자리로 표시\n",
    "print('동시발생 행렬')\n",
    "print(C)\n",
    "print('-'*50)\n",
    "print('PPMI')\n",
    "print(W)"
   ]
  },
  {
   "cell_type": "markdown",
   "metadata": {},
   "source": [
    "#### 차원감소\n",
    "중요한 정보는 최대한 유지하면서 벡터의 차원을 감소시킴"
   ]
  },
  {
   "cell_type": "code",
   "execution_count": 17,
   "metadata": {},
   "outputs": [
    {
     "name": "stdout",
     "output_type": "stream",
     "text": [
      "[0 1 0 0 0 0 0]\n",
      "[0.    1.807 0.    0.    0.    0.    0.   ]\n",
      "[ 0.000e+00  1.748e-01  3.821e-02  0.000e+00  0.000e+00 -9.839e-01\n",
      "  7.539e-16]\n",
      "[0.    0.175]\n"
     ]
    }
   ],
   "source": [
    "text = \"You say goodbye and I say hello.\"\n",
    "corpus, word2id, id2word = preprocess(text)\n",
    "vocab_size = len(word2id)\n",
    "C = creat_co_matrix(corpus, vocab_size)\n",
    "W = ppmi(C)\n",
    "\n",
    "# SVD\n",
    "U, S, V = np.linalg.svd(W)\n",
    "print(C[0])\n",
    "print(W[0])\n",
    "print(U[0])\n",
    "print(U[0, :2])"
   ]
  },
  {
   "cell_type": "code",
   "execution_count": 19,
   "metadata": {},
   "outputs": [
    {
     "data": {
      "image/png": "[encoded data removed]",
      "text/plain": [
       "<Figure size 432x288 with 1 Axes>"
      ]
     },
     "metadata": {},
     "output_type": "display_data"
    }
   ],
   "source": [
    "import matplotlib.pyplot as plt\n",
    "\n",
    "for word, word_id in word2id.items():\n",
    "    plt.annotate(word, (U[word_id, 0], U[word_id, 1]))\n",
    "    \n",
    "plt.scatter(U[:, 0], U[:, 1], alpha=0.5)\n",
    "plt.show()"
   ]
  }
 ],
 "metadata": {
  "kernelspec": {
   "display_name": "Python 3",
   "language": "python",
   "name": "python3"
  },
  "language_info": {
   "codemirror_mode": {
    "name": "ipython",
    "version": 3
   },
   "file_extension": ".py",
   "mimetype": "text/x-python",
   "name": "python",
   "nbconvert_exporter": "python",
   "pygments_lexer": "ipython3",
   "version": "3.6.8"
  }
 },
 "nbformat": 4,
 "nbformat_minor": 2
}
