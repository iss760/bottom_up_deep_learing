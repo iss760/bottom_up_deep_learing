{
 "cells": [
  {
   "cell_type": "markdown",
   "metadata": {},
   "source": [
    "### Ch6.1 매개변수 갱신\n",
    "- 최적화(Optimization) : 신경망 학습 시 손실 함수의 값을 가능한 낮추는 매개변수의 최적값을 찾는 것\n",
    "- 매개변수 공간은 매우 넓고 복잡한 만큼 최적의 솔류션을 쉽게 찾을 수 없음\n",
    "- 현재까지는 매개변수의 기울기(미분)를 구해 기울어진 방향으로 매개변수 값을 갱신하는 SGD를 이용하였음"
   ]
  },
  {
   "cell_type": "markdown",
   "metadata": {},
   "source": [
    "#### 확률적 경사 하강법(SGD, Stochastic Gradient Descent)의 단점\n",
    "1. 단순하고 구현이 쉽지만 문제에 따라 비효율적일 때가 있음\n",
    "2. 무작정 기울어진 방향으로 진행하는 단순한 방식을 갖은 SGD는 방향에 따라 성질이 다른 비등방성(anisotropy)함수에서는 탐색 경로가 비효율적임"
   ]
  },
  {
   "cell_type": "code",
   "execution_count": 1,
   "metadata": {},
   "outputs": [],
   "source": [
    "class SGD:\n",
    "    def __init__(self, lr=0.01):\n",
    "        self.lr = lr\n",
    "        \n",
    "    def update(self, params, grads):\n",
    "        for key in params.keys():\n",
    "            params[key] -= self.lr * grads[key]"
   ]
  },
  {
   "cell_type": "markdown",
   "metadata": {},
   "source": [
    "#### 모멘텀(Momentum)\n",
    "- SGD를 대체하는 기법 중 하나로, 기울기 방향으로 힘을 받아 물체가 가속된다는 물리 법칙을 나타냄\n",
    "- 따라서, 모멘텀의 갱신 경로는 공이 그릇 바닥을 구르듯 움직임"
   ]
  },
  {
   "cell_type": "code",
   "execution_count": 2,
   "metadata": {},
   "outputs": [],
   "source": [
    "class Momentum:\n",
    "    def __init__(self, lr=0.01, momentum=0.9):\n",
    "        self.lr = lr\n",
    "        self.momentum = momentum\n",
    "        self.v = None   # v는 물체의 속도\n",
    "        \n",
    "    def update(self, params, grads):\n",
    "        if self.v is None:\n",
    "            self.v = {}\n",
    "            for key, val in params.items():\n",
    "                self.v[key] = np.zeros_like(val)\n",
    "                \n",
    "        for key in params.keys():\n",
    "            self.v[key] = self.momentum * self.v[key] - self.lr * grads[key]\n",
    "            params[key] += self.v[key]"
   ]
  },
  {
   "cell_type": "markdown",
   "metadata": {},
   "source": [
    "#### AdaGrad\n",
    "- 학습률을 서서히 낮추는 방법에서 발전시킨 방법으로, 개별 매개변수에 적응적으로 학습률을 조정하면서 학습을 진행함"
   ]
  },
  {
   "cell_type": "code",
   "execution_count": 3,
   "metadata": {},
   "outputs": [],
   "source": [
    "class AdaGrad:\n",
    "    def __init__(self, lr=0.01):\n",
    "        self.lr = lr\n",
    "        self.h = None\n",
    "    \n",
    "    def update(self, params, grads):\n",
    "        if self.h is None:\n",
    "            self.h = {}\n",
    "            for key, val in params.items():\n",
    "                self.h[key] = np.zeros_like(val)\n",
    "                \n",
    "        for key in params.keys():\n",
    "            self.h[key] += grads[key] * grads[key]\n",
    "            params[key] -= self.lr * grads[key] / (np.sqrt(self.h[key]) + 1e-7)"
   ]
  },
  {
   "cell_type": "markdown",
   "metadata": {},
   "source": [
    "#### Adam\n",
    "- 공이 그릇 바닥을 구르는 듯한 움직임을 보이는 모멘텀과 매개변수의 원소마다 적응적으로 갱신 정도를 조정하는 AdaGrad를 융합한 방법\n",
    "- 하이퍼파라미터의 '편향 보정'이 진행됨"
   ]
  },
  {
   "cell_type": "code",
   "execution_count": 4,
   "metadata": {},
   "outputs": [],
   "source": [
    "### Adam은 하이퍼파라미터 3개를 지정(학습률, 1차 모멘텀용 계수, 2차 모멘턴용 계수)\n",
    "class Adam:\n",
    "    def __init__(self, lr=0.001, beta1=0.9, beta2=0.999):\n",
    "        self.lr = lr\n",
    "        self.beta1 = beta1\n",
    "        self.beta2 = beta2\n",
    "        self.iter = 0\n",
    "        self.m = None\n",
    "        self.v = None\n",
    "        \n",
    "    def update(self, params, grads):\n",
    "        if self.m is None:\n",
    "            self.m, self.v = {}, {}\n",
    "            for key, val in params.items():\n",
    "                self.m[key] = np.zeros_like(val)\n",
    "                self.v[key] = np.zeros_like(val)\n",
    "        \n",
    "        self.iter += 1\n",
    "        lr_t  = self.lr * np.sqrt(1.0 - self.beta2**self.iter) / (1.0 - self.beta1**self.iter)         \n",
    "        \n",
    "        for key in params.keys():\n",
    "            #self.m[key] = self.beta1*self.m[key] + (1-self.beta1)*grads[key]\n",
    "            #self.v[key] = self.beta2*self.v[key] + (1-self.beta2)*(grads[key]**2)\n",
    "            self.m[key] += (1 - self.beta1) * (grads[key] - self.m[key])\n",
    "            self.v[key] += (1 - self.beta2) * (grads[key]**2 - self.v[key])\n",
    "            \n",
    "            params[key] -= lr_t * self.m[key] / (np.sqrt(self.v[key]) + 1e-7)\n",
    "            \n",
    "            #unbias_m += (1 - self.beta1) * (grads[key] - self.m[key]) # correct bias\n",
    "            #unbisa_b += (1 - self.beta2) * (grads[key]*grads[key] - self.v[key]) # correct bias\n",
    "            #params[key] += self.lr * unbias_m / (np.sqrt(unbisa_b) + 1e-7)"
   ]
  },
  {
   "cell_type": "markdown",
   "metadata": {},
   "source": [
    "### Ch6.2 가중치의 초깃값\n",
    "- 가중치의 초깃값은 신경망 학습에서 중요한 부분으로 무엇으로 설정하느냐에 따라 학습의 성패가 가려짐\n",
    "- 은닉층의 활성화값*활성화 함수의 출력 데이터)의 분포를 관찰하면 중요한 정보를 얻을 수 있음\n",
    "- 따라서, 가중치의 초깃값에 따라 은닞층 활성화값들이 어떻게 변화하는지 간단한 실험을 진행\n",
    "\n",
    "1. 활성화 함수로 시그모이드 함수를 사용하는 5층 신경망에 무작위로 생성한 입력 데이터를 흘리며 각 충의 활성화값 분포를 확인"
   ]
  },
  {
   "cell_type": "code",
   "execution_count": 6,
   "metadata": {},
   "outputs": [
    {
     "data": {
      "image/png": "[encoded data removed]",
      "text/plain": [
       "<Figure size 432x288 with 5 Axes>"
      ]
     },
     "metadata": {
      "needs_background": "light"
     },
     "output_type": "display_data"
    }
   ],
   "source": [
    "### 가중치의 표준편차가 1인 정규분포인 경우\n",
    "import numpy as np\n",
    "import matplotlib.pyplot as plt\n",
    "\n",
    "def sigmoid(x):\n",
    "    return 1 / (1 + np.exp(-x))\n",
    "    \n",
    "input_data = np.random.randn(1000, 100)  ### 1000개의 데이터\n",
    "node_num = 100  ### 각 은닉층의 노드(뉴런) 수\n",
    "hidden_layer_size = 5  ### 은닉층이 5개\n",
    "activations = {}  ### 이곳에 활성화 결과를 저장\n",
    "\n",
    "x = input_data\n",
    "\n",
    "for i in range(hidden_layer_size):\n",
    "    if i != 0:\n",
    "        x = activations[i-1]\n",
    "    w = np.random.randn(node_num, node_num) * 1\n",
    "    a = np.dot(x, w)\n",
    "    z = sigmoid(a)\n",
    "    activations[i] = z\n",
    "\n",
    "### 히스토그램 그리기\n",
    "for i, a in activations.items():\n",
    "    plt.subplot(1, len(activations), i+1)\n",
    "    plt.title(str(i+1) + \"-layer\")\n",
    "    if i != 0: plt.yticks([], [])\n",
    "    plt.hist(a.flatten(), 30, range=(0,1))\n",
    "plt.show()"
   ]
  },
  {
   "cell_type": "markdown",
   "metadata": {},
   "source": [
    "- 각 층의 활성확밧들이 0과 1에 치우쳐 분포된 것을 확인할 수 있음\n",
    "- 시그모이드 함수는 출력이 0이나 1에 가까워지자 그 미분은 0에 다가가기 때문에 데이터가 0과 1에 치우쳐 분포하게 되면 역전파의 기울기 값이 점점 작아지다가 사라지는 현상이 발생할 수 있으며, 이 문제는 기울기 소실(gradient vanishing)이라고 함"
   ]
  },
  {
   "cell_type": "code",
   "execution_count": 7,
   "metadata": {},
   "outputs": [
    {
     "data": {
      "image/png": "[encoded data removed]",
      "text/plain": [
       "<Figure size 432x288 with 5 Axes>"
      ]
     },
     "metadata": {
      "needs_background": "light"
     },
     "output_type": "display_data"
    }
   ],
   "source": [
    "### 가중치의 표준편차가 0.01인 정규분포인 경우\n",
    "for i in range(hidden_layer_size):\n",
    "    if i != 0:\n",
    "        x = activations[i-1]\n",
    "    w = np.random.randn(node_num, node_num) * 0.01\n",
    "    a = np.dot(x, w)\n",
    "    z = sigmoid(a)\n",
    "    activations[i] = z\n",
    "\n",
    "### 히스토그램 그리기\n",
    "for i, a in activations.items():\n",
    "    plt.subplot(1, len(activations), i+1)\n",
    "    plt.title(str(i+1) + \"-layer\")\n",
    "    if i != 0: plt.yticks([], [])\n",
    "    # plt.xlim(0.1, 1)\n",
    "    # plt.ylim(0, 7000)\n",
    "    plt.hist(a.flatten(), 30, range=(0,1))\n",
    "plt.show()"
   ]
  },
  {
   "cell_type": "markdown",
   "metadata": {},
   "source": [
    "- 데이터의 분포가 0.5 부근에 집중되어 있음\n",
    "- 해당 경우는 다수의 뉴런이 거의 같은 값을 출력하고 있기 때문에 뉴련을 여러 개 둔 의미가 사라진다고 할 수 있음\n",
    "- 따라서, 활성화값들이 한쪽으로 치우치면 표현력을 제한한다는 관점에서 문제가 발생됨"
   ]
  },
  {
   "cell_type": "markdown",
   "metadata": {},
   "source": [
    "2. Xavier 초깃값 사용"
   ]
  },
  {
   "cell_type": "code",
   "execution_count": 8,
   "metadata": {},
   "outputs": [
    {
     "data": {
      "image/png": "[encoded data removed]",
      "text/plain": [
       "<Figure size 432x288 with 5 Axes>"
      ]
     },
     "metadata": {
      "needs_background": "light"
     },
     "output_type": "display_data"
    }
   ],
   "source": [
    "for i in range(hidden_layer_size):\n",
    "    if i != 0:\n",
    "        x = activations[i-1]\n",
    "    w = np.random.randn(node_num, node_num) * np.sqrt(1.0 / node_num)\n",
    "    a = np.dot(x, w)\n",
    "    z = sigmoid(a)\n",
    "    activations[i] = z\n",
    "\n",
    "### 히스토그램 그리기\n",
    "for i, a in activations.items():\n",
    "    plt.subplot(1, len(activations), i+1)\n",
    "    plt.title(str(i+1) + \"-layer\")\n",
    "    if i != 0: plt.yticks([], [])\n",
    "    plt.hist(a.flatten(), 30, range=(0,1))\n",
    "plt.show()"
   ]
  },
  {
   "cell_type": "markdown",
   "metadata": {},
   "source": [
    "- 층이 깊어지면서 형태가 다소 일그러지만 앞선 방식보다는 확실히 넓게 분포됨을 알 수 있어 시그모이드 함수의 표현력도 제한받지 않고 학습이 효율적으로 이뤄질 것으로 기대됨"
   ]
  },
  {
   "cell_type": "markdown",
   "metadata": {},
   "source": [
    "### 배치 정규화(Batch Normalization)\n",
    "- 배치 정규화는 각층의 활성화값 분포가 적당히 퍼지도록 강제한다는 아이디어에서 출발한 방법임\n",
    "- 배치 정규화는 다음과 같은 장점이 있음\n",
    "1. 학습을 빨리 진행할 수 있음\n",
    "2. 초깃값에 크게 의존하지 않음\n",
    "3. 오버피팅을 억제함 => 드롭아웃 등의 필요성 감소"
   ]
  },
  {
   "cell_type": "markdown",
   "metadata": {},
   "source": [
    "### 오버피팅(Overfitting)\n",
    "- 오버피팅은 신경망이 훈련 데이터에만 지나치게 적응되어 그 외의 데이터에는 제대로 대응하지 못하는 상태를 뜻함\n",
    "- 오버피팅은 다음과 같은 경우에서 주로 일어남\n",
    "1. 매개변수가 많고 표현력이 높은 모델\n",
    "2. 훈력 데이터가 적은 경우"
   ]
  },
  {
   "cell_type": "markdown",
   "metadata": {},
   "source": [
    "#### 가중치 감소(weight decay)\n",
    "- 오버피팅을 억제하기 위해 가중치 감소(weight decay)를 이용함\n",
    "- 가중치 감소는 학습 과정에서 큰 가중치에 대해서는 그에 상응하는 큰 페널티를 부과하여 오버피팅을 억제하는 방법"
   ]
  },
  {
   "cell_type": "markdown",
   "metadata": {},
   "source": [
    "#### 드롭아웃(Dropout)\n",
    "- 오버피팅을 억제하기 위해 추가적으로 사용하는 방법으로 드롭아웃이 있음\n",
    "- 드롭아웃은 뉴런을 임의로 삭제하면서 학습하는 방법"
   ]
  },
  {
   "cell_type": "code",
   "execution_count": 9,
   "metadata": {},
   "outputs": [],
   "source": [
    "class Dropout:\n",
    "    def __init__(self, dropout_ratio=0.5):\n",
    "        self.dropout_ratio = dropout_ratio\n",
    "        self.mask = None\n",
    "        \n",
    "    def forward(self, x, train_flg=True):\n",
    "        if train_flg:\n",
    "            self.mask = np.random.rand(*x.shape) > self.dropout_ratio\n",
    "            return x * self.mask\n",
    "        else:\n",
    "            return x * (1.0 - self.dropout_ratio)\n",
    "        \n",
    "    def backward(self, dout):\n",
    "        return dout * self.mask"
   ]
  },
  {
   "cell_type": "markdown",
   "metadata": {},
   "source": [
    "#### 앙상블 학습(Ensemble learning)\n",
    "- 앙상블 학습은 개별적으로 학습시킨 여러 모델의 출력을 평균 내어 추론하는 방식으로 드롭아웃과 밀접한 관련이 있음\n",
    "- 드롭아웃이 학습 시 뉴런을 무작위로 삭제하는 행위 = 앙상블 학습에서 매번 다른 모델을 학습시키는 행위\n",
    "- 드롭아웃이 학습 시 뉴런의 출력을 삭제한 비율 = 앙상블 학습에서 여러 모델의 평균을 내는 것"
   ]
  },
  {
   "cell_type": "markdown",
   "metadata": {},
   "source": [
    "### 하이퍼파리미터 최적화\n",
    "- 하이퍼파라미터에는 각 층의 뉴런 수, 배치 크기, 매개변수 갱신 시의 학습룰과 가중치 감소 등이 있음\n",
    "- 하이퍼파라미터으 값을 적절하게 설정하지 않으면 모델의 성능이 떨어지지는 경우가 많아, 그 값을 결정하기까지 일반적으로 많은 시행착오를 겪음"
   ]
  },
  {
   "cell_type": "markdown",
   "metadata": {},
   "source": [
    "#### 검증 데이터(Validation data)\n",
    "- 검증 데이터는 하이퍼파라미터의 적절성을 평가하는 데이터라고 할 수 있음\n",
    "- 따라서, 훈련 데이터는 매개변수(가중치와 편향)의 학습에 이용하고, 검증 데이터는 하이퍼파라미터의 성능을 평가하는데, 시험 데이터는 범용 성능을 확인하기 이용"
   ]
  },
  {
   "cell_type": "code",
   "execution_count": 10,
   "metadata": {},
   "outputs": [],
   "source": [
    "import numpy as np\n",
    "from dataset.mnist import load_mnist\n",
    "from common.util import shuffle_dataset\n",
    "\n",
    "(x_train, t_train), (x_test, t_test) = load_mnist()\n",
    "x_train, t_train = shuffle_dataset(x_train, t_train)\n",
    "\n",
    "validation_rate = 0.20\n",
    "validation_num = int(x_train.shape[0] * validation_rate)\n",
    "\n",
    "x_val = x_train[:validation_num]\n",
    "t_val = t_train[:validation_num]\n",
    "x_train = x_train[validation_num:]\n",
    "t_train = t_train[validation_num:]"
   ]
  },
  {
   "cell_type": "markdown",
   "metadata": {},
   "source": [
    "- 하이퍼파라미터 최적화의 핵심은 하이퍼파라미터의 '최적 값;이 존재하는 범위를 조금씩 줄여나가는 것\n",
    "- 또한, 그리드 서치(grid search)와 같은 규치적인 탐색보다는 무작위 샘플링을 통해 탐색하는 편이 좋은 결과를 나타낸다고 알려져 있음\n",
    "- 베이즈 최적화(Bayesian optimization)는 베이즈 정리를 중심으로 한 수학 이론을 구사하여 더 엄밀하고 효율적으로 최적화를 수행함"
   ]
  },
  {
   "cell_type": "code",
   "execution_count": null,
   "metadata": {},
   "outputs": [],
   "source": []
  }
 ],
 "metadata": {
  "kernelspec": {
   "display_name": "Python 3",
   "language": "python",
   "name": "python3"
  },
  "language_info": {
   "codemirror_mode": {
    "name": "ipython",
    "version": 3
   },
   "file_extension": ".py",
   "mimetype": "text/x-python",
   "name": "python",
   "nbconvert_exporter": "python",
   "pygments_lexer": "ipython3",
   "version": "3.7.4"
  }
 },
 "nbformat": 4,
 "nbformat_minor": 4
}
