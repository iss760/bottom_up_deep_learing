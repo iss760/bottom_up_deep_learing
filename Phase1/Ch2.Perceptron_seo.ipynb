{
 "cells": [
  {
   "cell_type": "markdown",
   "metadata": {},
   "source": [
    "## Perceptron: 다수의 신호를 입력 받아 하나의 신호를 출력  \n",
    "    ex) y = 0 (w1x1 + w2x2 <= theta)\n",
    "        y = 1 (w1x1 + w2xw > theta)   \n",
    "        \n",
    "###### Note: 퍼셉트론의 매개변수 값을 정하는 것은 컴퓨터가 아닌 인간의 일이고, 기계학습 문제는 이 매개변수의 값을 정하는 작업을 컴퓨터가 수행하는 것. 학습이란 적절한 매개변수의 값을 정하는 작업이며, 사람은 퍼셉트론의 구조(모델)를 고민하고 컴퓨터에 학습할 데이터를 주는 일을 담당"
   ]
  },
  {
   "cell_type": "code",
   "execution_count": 14,
   "metadata": {},
   "outputs": [
    {
     "name": "stdout",
     "output_type": "stream",
     "text": [
      "0\n",
      "0\n",
      "0\n",
      "1\n"
     ]
    }
   ],
   "source": [
    "# And 게이트\n",
    "def _and_gate(x1, x2):\n",
    "    w1, w2 = 0.5, 0.5\n",
    "    theta = 0.7\n",
    "    tmp = w1*x1 + w2*x2\n",
    "    if tmp <= theta:\n",
    "        return 0\n",
    "    elif tmp > theta:\n",
    "        return 1\n",
    "    \n",
    "print(and_gate(0, 0))\n",
    "print(and_gate(0, 1))\n",
    "print(and_gate(1, 0))\n",
    "print(and_gate(1, 1))"
   ]
  },
  {
   "cell_type": "markdown",
   "metadata": {},
   "source": [
    "##### 가중치와 편향의 도입\n",
    "    theta -> -b로 치환, 0을 기준으로 퍼셉트론 작동"
   ]
  },
  {
   "cell_type": "code",
   "execution_count": 15,
   "metadata": {},
   "outputs": [
    {
     "name": "stdout",
     "output_type": "stream",
     "text": [
      "[0.  0.5]\n",
      "0.5\n",
      "-0.19999999999999996\n"
     ]
    }
   ],
   "source": [
    "import numpy as np\n",
    "x = np.array([0, 1])        # 입력값\n",
    "w = np.array([0.5, 0.5])    # 가중치\n",
    "b = -0.7                     # 편향\n",
    "\n",
    "print(w*x)\n",
    "print(np.sum(w*x))\n",
    "print(np.sum(w*x) + b)"
   ]
  },
  {
   "cell_type": "code",
   "execution_count": 16,
   "metadata": {},
   "outputs": [
    {
     "name": "stdout",
     "output_type": "stream",
     "text": [
      "0\n",
      "0\n",
      "0\n",
      "1\n"
     ]
    }
   ],
   "source": [
    "# And 게이트 개선\n",
    "def and_gate(x1, x2):\n",
    "    x = np.array([x1, x2])\n",
    "    w = np.array([0.5, 0.5])\n",
    "    b = -0.7\n",
    "    tmp = np.sum(w*x) + b\n",
    "    if tmp <= 0:\n",
    "        return 0\n",
    "    else:\n",
    "        return 1\n",
    "    \n",
    "print(and_gate2(0, 0))\n",
    "print(and_gate2(0, 1))\n",
    "print(and_gate2(1, 0))\n",
    "print(and_gate2(1, 1))"
   ]
  },
  {
   "cell_type": "code",
   "execution_count": 12,
   "metadata": {},
   "outputs": [
    {
     "name": "stdout",
     "output_type": "stream",
     "text": [
      "1\n",
      "1\n",
      "1\n",
      "0\n"
     ]
    }
   ],
   "source": [
    "# NAND 게이트\n",
    "def nand_gate(x1, x2):\n",
    "    x = np.array([x1, x2])\n",
    "    w = np.array([-0.5, -0.5])\n",
    "    b = 0.7\n",
    "    tmp = np.sum(w*x) + b\n",
    "    if tmp <= 0:\n",
    "        return 0\n",
    "    else:\n",
    "        return 1\n",
    "    \n",
    "print(nand_gate(0, 0))\n",
    "print(nand_gate(0, 1))\n",
    "print(nand_gate(1, 0))\n",
    "print(nand_gate(1, 1))"
   ]
  },
  {
   "cell_type": "code",
   "execution_count": 13,
   "metadata": {},
   "outputs": [
    {
     "name": "stdout",
     "output_type": "stream",
     "text": [
      "0\n",
      "1\n",
      "1\n",
      "1\n"
     ]
    }
   ],
   "source": [
    "# OR 게이트\n",
    "def or_gate(x1, x2):\n",
    "    x = np.array([x1, x2])\n",
    "    w = np.array([0.5, 0.5])\n",
    "    b = -0.2\n",
    "    tmp = np.sum(w*x) + b\n",
    "    if tmp <= 0:\n",
    "        return 0\n",
    "    else:\n",
    "        return 1\n",
    "    \n",
    "print(or_gate(0, 0))\n",
    "print(or_gate(0, 1))\n",
    "print(or_gate(1, 0))\n",
    "print(or_gate(1, 1))"
   ]
  },
  {
   "cell_type": "markdown",
   "metadata": {},
   "source": [
    "#### 퍼셉트론의 한계\n",
    "    XOR 게이트는 배타적 논리합이라는 논리회로\n",
    "    x1과 x2중 한쪽이 1일 때만 1을 출력\n",
    "    단층 퍼셉트론으로는 XOR 게이트 구현은 불가 (선형적으로 불가하기 때문애)\n",
    "    \n",
    "    -> 해결방안: 다층 퍼셉트론으로 해결 가능 (비선형적으로 가능)"
   ]
  },
  {
   "cell_type": "markdown",
   "metadata": {},
   "source": [
    "#### XOR 게이트의 진리표\n",
    "    x1 x2 | s1 s2 | y\n",
    "    ------------------\n",
    "     0  0 |  1  0 | 0\n",
    "     1  0 |  1  1 | 1\n",
    "     0  1 |  1  1 | 1\n",
    "     1  1 |  0  1 | 0"
   ]
  },
  {
   "cell_type": "code",
   "execution_count": 17,
   "metadata": {},
   "outputs": [
    {
     "name": "stdout",
     "output_type": "stream",
     "text": [
      "0\n",
      "1\n",
      "1\n",
      "0\n"
     ]
    }
   ],
   "source": [
    "# XOR 게이트\n",
    "def xor_gate(x1, x2):\n",
    "    s1 = nand_gate(x1, x2)\n",
    "    s2 = or_gate(x1, x2)\n",
    "    y = and_gate(s1, s2)\n",
    "    return y\n",
    "\n",
    "print(xor_gate(0, 0))\n",
    "print(xor_gate(0, 1))\n",
    "print(xor_gate(1, 0))\n",
    "print(xor_gate(1, 1))"
   ]
  },
  {
   "cell_type": "code",
   "execution_count": null,
   "metadata": {},
   "outputs": [],
   "source": []
  }
 ],
 "metadata": {
  "kernelspec": {
   "display_name": "Python 3",
   "language": "python",
   "name": "python3"
  },
  "language_info": {
   "codemirror_mode": {
    "name": "ipython",
    "version": 3
   },
   "file_extension": ".py",
   "mimetype": "text/x-python",
   "name": "python",
   "nbconvert_exporter": "python",
   "pygments_lexer": "ipython3",
   "version": "3.6.8"
  }
 },
 "nbformat": 4,
 "nbformat_minor": 2
}
