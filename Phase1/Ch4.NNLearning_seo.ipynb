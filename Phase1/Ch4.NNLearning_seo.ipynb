{
 "cells": [
  {
   "cell_type": "markdown",
   "metadata": {},
   "source": [
    "###### Note: 딥러닝을 종단간 기계학습(end-to-end machine learning) 이라고 하는데, 이는 데이터의 입역부터 출력까지 사람의 개입이 이루어지지 않음을 의미한다."
   ]
  },
  {
   "cell_type": "markdown",
   "metadata": {},
   "source": [
    "## 손실함수\n",
    "    일반적으로 평균제곱오차(MSE), 교차엔트로피오차(CEE)를 사용"
   ]
  },
  {
   "cell_type": "code",
   "execution_count": 1,
   "metadata": {},
   "outputs": [],
   "source": [
    "import numpy as np"
   ]
  },
  {
   "cell_type": "code",
   "execution_count": 2,
   "metadata": {},
   "outputs": [
    {
     "name": "stdout",
     "output_type": "stream",
     "text": [
      "0.09750000000000003\n",
      "0.5975\n"
     ]
    }
   ],
   "source": [
    "# MSE 함수\n",
    "def mean_squared_error(y, t):\n",
    "    return 0.5 * np.sum((y-t)**2)\n",
    "\n",
    "# y: 신경망의 소프트맥스 출력값\n",
    "# t: 정답\n",
    "t = [0, 0, 1, 0, 0, 0, 0, 0, 0, 0]    # 원핫인코딩, 정답=2\n",
    "y1 = [0.1, 0.05, 0.6, 0.0, 0.05, 0.1, 0.0, 0.1, 0.0, 0.0]   # 예시1, '2'일 확률이 가장 높다고 추정\n",
    "y2 = [0.1, 0.05, 0.1, 0.0, 0.05, 0.1, 0.0, 0.6, 0.0, 0.0]   # 예시2, '7'일 확률이 가장 높다고 추정\n",
    "\n",
    "print(mean_squared_error(np.array(y1), np.array(t)))\n",
    "print(mean_squared_error(np.array(y2), np.array(t)))"
   ]
  },
  {
   "cell_type": "code",
   "execution_count": 3,
   "metadata": {},
   "outputs": [
    {
     "name": "stdout",
     "output_type": "stream",
     "text": [
      "0.510825457099338\n",
      "2.302584092994546\n"
     ]
    }
   ],
   "source": [
    "# CEE 함수\n",
    "def _cross_entropy_errror(y, t):\n",
    "    delta = 1e-7    # y의 0값을 방지하는 작은 값\n",
    "    return -np.sum(t * np.log(y+delta))\n",
    "\n",
    "# y: 신경망의 소프트맥스 출력값\n",
    "# t: 정답\n",
    "t = [0, 0, 1, 0, 0, 0, 0, 0, 0, 0]    # 원핫인코딩, 정답=2\n",
    "y1 = [0.1, 0.05, 0.6, 0.0, 0.05, 0.1, 0.0, 0.1, 0.0, 0.0]   # 예시1, '2'일 확률이 가장 높다고 추정\n",
    "y2 = [0.1, 0.05, 0.1, 0.0, 0.05, 0.1, 0.0, 0.6, 0.0, 0.0]   # 예시2, '7'일 확률이 가장 높다고 추정\n",
    "\n",
    "print(_cross_entropy_errror(np.array(y1), np.array(t)))\n",
    "print(_cross_entropy_errror(np.array(y2), np.array(t)))"
   ]
  },
  {
   "cell_type": "markdown",
   "metadata": {},
   "source": [
    "    모든 데이터셋을 대상으로 손실함수의 계산은 비효율적 (ex. MNIST 데이터셋은 훈련데이터가 60,000개)\n",
    "    그러므로, 훈련데이터의 일부만 골라 학습을 진행(mini batch)"
   ]
  },
  {
   "cell_type": "code",
   "execution_count": 4,
   "metadata": {},
   "outputs": [
    {
     "name": "stdout",
     "output_type": "stream",
     "text": [
      "(60000, 784)\n",
      "(60000, 10)\n"
     ]
    }
   ],
   "source": [
    "from master.dataset.mnist import load_mnist\n",
    "\n",
    "(x_train, t_train), (x_test, t_test) = load_mnist(normalize=True, one_hot_label=True)\n",
    "\n",
    "print(x_train.shape)\n",
    "print(t_train.shape)"
   ]
  },
  {
   "cell_type": "code",
   "execution_count": 5,
   "metadata": {},
   "outputs": [],
   "source": [
    "train_size = x_train.shape[0]\n",
    "batch_size = 10\n",
    "batch_mask = np.random.choice(train_size, batch_size)    # 무작위로 선택된 인덱스\n",
    "x_batch = x_train[batch_mask]\n",
    "t_batch = t_train[batch_mask]"
   ]
  },
  {
   "cell_type": "code",
   "execution_count": 6,
   "metadata": {},
   "outputs": [],
   "source": [
    "# 배치용 CEE함수\n",
    "def cross_entropy_error(y, t):\n",
    "    if y.dim == 1:    # 데이터 하나에 대한 CEE 계산일 경우, 데이터 형상을 변경\n",
    "        y = y.reshape(1, y.size)\n",
    "        t = t.resahpe(1, t.size)\n",
    "        \n",
    "    bach_size = y.shpae[0]\n",
    "    return -np.sum(t * np.log(y + 1e-7)) / batch_size"
   ]
  },
  {
   "cell_type": "markdown",
   "metadata": {},
   "source": [
    "###### Note: 궁극적 목표인 '정확도'라는 지표를 놔두고 '손실함수의 값'이라는 우회적인 방법을 택하는 이유는 '미분'에 역활에 주목하기 때문이다. 최적의 매개변수(가중치와 편향)을 탐색할 때 손실함수의 값을 가능한 한 작게 하는 매개변수를 찾게되는데, 이때 매개변수의 미분(기울기)을 계산하고 그 미분 값을 단서로 매개변수의 값을 서서히 갱신하는 과정을 반복하기 때문이다.    \n",
    "###### '정확도'를 지표로 삼게 되면 대부분의 장소에서 미분 값이 0이 되어 매개변수를 갱신 할 수 없기 때문입니다. 정확도는 연속적인 변화가 아닌 불연속적인 변화(ex. 32.1%, 34%, 33.7% ...)를 띄는 반면 손실함수는 0.92543, 0.93432 같이 연속적으로 변화하는 것을 관찰 할 수 있다. 따라서 계단함수가 작은 변화가 주는 파장을 불연속성으로 말살하는 것을 이유로 활성화 함수로 사용되지 않는 것과 마찬가지로 '정확도' 또한 지표로써 활용 될 수 없다."
   ]
  },
  {
   "cell_type": "markdown",
   "metadata": {},
   "source": [
    "## 미분\n",
    "    경사법에서는 기울기(경사) 값을 기준으로 나아갈 방향을 정한다."
   ]
  },
  {
   "cell_type": "code",
   "execution_count": 7,
   "metadata": {},
   "outputs": [],
   "source": [
    "# 수치미분의 나쁜 구현 예\n",
    "# 반올림 오차(작은 값이 생략되는 문제), 차분(두 점에서의 함수값들의 차이) 두 가지의 문제점 발생\n",
    "def _numerical_diff(f, x):\n",
    "    h = 10e-50\n",
    "    return (f(x + h) - f(x)) / h"
   ]
  },
  {
   "cell_type": "code",
   "execution_count": 8,
   "metadata": {},
   "outputs": [],
   "source": [
    "# 두가지 문제점 개선 수치미분 함수\n",
    "def numerical_diff(f, x):\n",
    "    h = 1e-4    # 미세한 값으로 10^-4을 사용하면 좋은 결과를 얻을 수 있음\n",
    "    return (f(x+h) - f(x-h)) / (2*h)"
   ]
  },
  {
   "cell_type": "code",
   "execution_count": 9,
   "metadata": {},
   "outputs": [
    {
     "data": {
      "text/plain": [
       "<Figure size 640x480 with 1 Axes>"
      ]
     },
     "metadata": {},
     "output_type": "display_data"
    }
   ],
   "source": [
    "import matplotlib.pyplot as plt\n",
    "\n",
    "# 예시 함수, y = 0.01x^2 + 0.1x\n",
    "def func_1(x):\n",
    "    return 0.01*x**2 + 0.1*x\n",
    "\n",
    "x = np.arange(0.0, 20.0, 0.1)\n",
    "y = func_1(x)\n",
    "plt.xlabel('x')\n",
    "plt.ylabel('f(x)')\n",
    "plt.plot(x, y)\n",
    "plt.show()"
   ]
  },
  {
   "cell_type": "code",
   "execution_count": 10,
   "metadata": {},
   "outputs": [
    {
     "name": "stdout",
     "output_type": "stream",
     "text": [
      "0.1999999999990898\n",
      "0.2999999999986347\n"
     ]
    },
    {
     "data": {
      "image/png": "[encoded data removed]",
      "text/plain": [
       "<Figure size 432x288 with 1 Axes>"
      ]
     },
     "metadata": {},
     "output_type": "display_data"
    }
   ],
   "source": [
    "# 접선의 기울기 함수\n",
    "def tangent_line(f, x):\n",
    "    d = numerical_diff(f, x)\n",
    "    print(d)\n",
    "    y = f(x) - d*x\n",
    "    return lambda t: d*t + y\n",
    "\n",
    "x = np.arange(0.0, 20.0, 0.1)\n",
    "y = func_1(x)\n",
    "\n",
    "tf1 = tangent_line(func_1, 5)    # x=5 에서의 기울기, 실제 '진정한 미분'값은 2\n",
    "tf2 = tangent_line(func_1, 10)   # x=10 에서의 기울기, 실제 '진정한 미분'값은 3\n",
    "\n",
    "plt.xlabel(\"x\")\n",
    "plt.ylabel(\"f(x)\")\n",
    "plt.plot(x, y)\n",
    "plt.plot(x, tf1(x))\n",
    "plt.plot(x, tf2(x))\n",
    "plt.show()"
   ]
  },
  {
   "cell_type": "code",
   "execution_count": 11,
   "metadata": {},
   "outputs": [],
   "source": [
    "# 예시 함수, f(x(0), x(1)) = x(0)^2 + x(1)^2\n",
    "def func_2(x):\n",
    "    return x[0]**2 + x[1]**2"
   ]
  },
  {
   "cell_type": "code",
   "execution_count": 12,
   "metadata": {},
   "outputs": [
    {
     "data": {
      "text/plain": [
       "6.00000000000378"
      ]
     },
     "execution_count": 12,
     "metadata": {},
     "output_type": "execute_result"
    }
   ],
   "source": [
    "# x(0)=3, x(1)=4 일때, x(0)에 대한 편미분\n",
    "def func_tmp1(x0):\n",
    "    return x0*x0 + 4.0**2.0\n",
    "\n",
    "numerical_diff(func_tmp1, 3.0)"
   ]
  },
  {
   "cell_type": "code",
   "execution_count": 13,
   "metadata": {},
   "outputs": [
    {
     "data": {
      "text/plain": [
       "7.999999999999119"
      ]
     },
     "execution_count": 13,
     "metadata": {},
     "output_type": "execute_result"
    }
   ],
   "source": [
    "# x(0)=3, x(1)=4 일때, x(1)에 대한 편미분\n",
    "def func_tmp2(x1):\n",
    "    return 3.0*2.0 + x1*x1\n",
    "\n",
    "numerical_diff(func_tmp2, 4.0)"
   ]
  },
  {
   "cell_type": "markdown",
   "metadata": {},
   "source": [
    "## 기울기\n",
    "    모든 변수의 편미분을 벡터로 정리한 것을 기울기(gradient)라고 한다."
   ]
  },
  {
   "cell_type": "code",
   "execution_count": 14,
   "metadata": {},
   "outputs": [
    {
     "name": "stdout",
     "output_type": "stream",
     "text": [
      "[6. 8.]\n",
      "[0. 4.]\n",
      "[6. 0.]\n"
     ]
    }
   ],
   "source": [
    "# 기울기 함수\n",
    "def numerical_gradient(f, x):\n",
    "    h = 1e-4    # 0.0001\n",
    "    grad = np.zeros_like(x)    # x와 형상이 같은 배열을 생성\n",
    "    \n",
    "    for i in range(x.size):\n",
    "        tmp_val = x[i]\n",
    "        \n",
    "        # f(x+h) 계산\n",
    "        x[i] = tmp_val + h\n",
    "        fxh1 = f(x)\n",
    "        \n",
    "        # f(x-h) 계산\n",
    "        x[i] = tmp_val - h\n",
    "        fxh2 = f(x)\n",
    "        \n",
    "        grad[i] = (fxh1 - fxh2) / (2*h)\n",
    "        x[i] = tmp_val    # 값 복원\n",
    "        \n",
    "    return grad\n",
    "\n",
    "print(numerical_gradient(func_2, np.array([3.0, 4.0])))    # (3, 4)에서의 기울기\n",
    "print(numerical_gradient(func_2, np.array([0.0, 2.0])))    # (0, 2)에서의 기울기\n",
    "print(numerical_gradient(func_2, np.array([3.0, 0.0])))    # (3, 0)에서의 기울기"
   ]
  },
  {
   "cell_type": "code",
   "execution_count": 15,
   "metadata": {},
   "outputs": [
    {
     "data": {
      "text/plain": [
       "array([-6.11110793e-10,  8.14814391e-10])"
      ]
     },
     "execution_count": 15,
     "metadata": {},
     "output_type": "execute_result"
    }
   ],
   "source": [
    "# 경사하강법 함수\n",
    "def gradient_descent(f, init_x, lr=0.01, step_num=100):\n",
    "    x = init_x\n",
    "    for i in range(step_num):\n",
    "        grad = numerical_gradient(f, x)\n",
    "        x -= lr * grad\n",
    "    return x\n",
    "\n",
    "init_x = np.array([-3.0, 4.0])\n",
    "gradient_descent(func_2, init_x=init_x, lr=0.1, step_num=100)"
   ]
  },
  {
   "cell_type": "code",
   "execution_count": 16,
   "metadata": {},
   "outputs": [
    {
     "data": {
      "text/plain": [
       "array([-2.58983747e+13, -1.29524862e+12])"
      ]
     },
     "execution_count": 16,
     "metadata": {},
     "output_type": "execute_result"
    }
   ],
   "source": [
    "# 학습률이 너무 클 때 -> 발산해버림\n",
    "init_x = np.array([-3.0, 4.0])\n",
    "gradient_descent(func_2, init_x=init_x, lr=10.0, step_num=100)"
   ]
  },
  {
   "cell_type": "code",
   "execution_count": 17,
   "metadata": {},
   "outputs": [
    {
     "data": {
      "text/plain": [
       "array([-2.99999994,  3.99999992])"
      ]
     },
     "execution_count": 17,
     "metadata": {},
     "output_type": "execute_result"
    }
   ],
   "source": [
    "# 학습률이 너무 작을 때 -> 거의 갱신되지 않은 채 종료\n",
    "init_x = np.array([-3.0, 4.0])\n",
    "gradient_descent(func_2, init_x=init_x, lr=1e-10, step_num=100)"
   ]
  },
  {
   "cell_type": "code",
   "execution_count": 18,
   "metadata": {},
   "outputs": [
    {
     "name": "stdout",
     "output_type": "stream",
     "text": [
      "[[-1.31534148  0.1123139   0.95479542]\n",
      " [ 0.14868539  1.03816883 -0.73029222]]\n"
     ]
    }
   ],
   "source": [
    "from master.common.functions import softmax, cross_entropy_error\n",
    "from master.common.gradient import numerical_gradient\n",
    "\n",
    "\n",
    "# 신경망에서의 기울기\n",
    "class SimpleNet:\n",
    "    def __init__(self):\n",
    "        self.W = np.random.randn(2, 3)\n",
    "\n",
    "    def predict(self, x):\n",
    "        return np.dot(x, self.W)\n",
    "\n",
    "    def loss(self, x, t):\n",
    "        z = self.predict(x)\n",
    "        y = softmax(z)\n",
    "        loss = cross_entropy_error(y, t)\n",
    "\n",
    "        return loss\n",
    "    \n",
    "net = SimpleNet()\n",
    "print(net.W)"
   ]
  },
  {
   "cell_type": "code",
   "execution_count": 19,
   "metadata": {},
   "outputs": [
    {
     "name": "stdout",
     "output_type": "stream",
     "text": [
      "[-0.65538804  1.00174029 -0.08438574]\n",
      "1\n"
     ]
    }
   ],
   "source": [
    "x = np.array([0.6, 0.9])\n",
    "p = net.predict(x)\n",
    "print(p)\n",
    "print(np.argmax(p))    # 최댓값의 인덱스"
   ]
  },
  {
   "cell_type": "code",
   "execution_count": 20,
   "metadata": {},
   "outputs": [
    {
     "name": "stdout",
     "output_type": "stream",
     "text": [
      "1.5102209236683508\n"
     ]
    }
   ],
   "source": [
    "t = np.array([0, 0, 1])    # 정답 레이블\n",
    "print(net.loss(x, t))"
   ]
  },
  {
   "cell_type": "code",
   "execution_count": 21,
   "metadata": {},
   "outputs": [
    {
     "name": "stdout",
     "output_type": "stream",
     "text": [
      "[[ 0.07486643  0.39261672 -0.46748314]\n",
      " [ 0.11229964  0.58892507 -0.70122471]]\n"
     ]
    }
   ],
   "source": [
    "# 기울기 산출\n",
    "dw = numerical_gradient(lambda w: net.loss(x, t), net.W)\n",
    "print(dw)"
   ]
  },
  {
   "cell_type": "markdown",
   "metadata": {},
   "source": [
    "## 학습 알고리즘 구현\n",
    "    손글씨 숫자를 학습하는 신경망 구현\n",
    "    2층 신경망(은닉층이 1층)을 대상으로 MNIST 데이터셋 사용"
   ]
  },
  {
   "cell_type": "code",
   "execution_count": 22,
   "metadata": {},
   "outputs": [
    {
     "name": "stdout",
     "output_type": "stream",
     "text": [
      "(784, 100)\n",
      "(100,)\n",
      "(100, 10)\n",
      "(10,)\n"
     ]
    }
   ],
   "source": [
    "from master.common.functions import *\n",
    "from master.common.gradient import numerical_gradient\n",
    "\n",
    "\n",
    "class TwoLayerNet:\n",
    "    def __init__(self, input_size, hidden_size, output_size, weight_init_std=0.01):\n",
    "        # 가중치 초기화\n",
    "        self.params = {}\n",
    "        self.params['W1'] = weight_init_std * np.random.randn(input_size, hidden_size)\n",
    "        self.params['b1'] = np.zeros(hidden_size)\n",
    "        self.params['W2'] = weight_init_std * np.random.randn(hidden_size, output_size)\n",
    "        self.params['b2'] = np.zeros(output_size)\n",
    "\n",
    "    def predict(self, x):\n",
    "        W1, W2 = self.params['W1'], self.params['W2']\n",
    "        b1, b2 = self.params['b1'], self.params['b2']\n",
    "    \n",
    "        a1 = np.dot(x, W1) + b1\n",
    "        z1 = sigmoid(a1)\n",
    "        a2 = np.dot(z1, W2) + b2\n",
    "        y = softmax(a2)\n",
    "        \n",
    "        return y\n",
    "        \n",
    "    # x: 입력 데이터, t: 출력 데이터\n",
    "    def loss(self, x, t):\n",
    "        y = self.predict(x)\n",
    "        \n",
    "        return cross_entropy_error(y, t)\n",
    "    \n",
    "    def accuracy(self, x, t):\n",
    "        y = self.predict(x)\n",
    "        y = np.argmax(y, axis=1)\n",
    "        t = np.argmax(t, axis=1)\n",
    "        \n",
    "        accuracy = np.sum(y == t) / float(x.shape[0])\n",
    "        return accuracy\n",
    "        \n",
    "    # x: 입력 데이터, t: 출력 데이터\n",
    "    def numerical_gradient(self, x, t):\n",
    "        loss_W = lambda W: self.loss(x, t)\n",
    "        \n",
    "        grads = {}\n",
    "        grads['W1'] = numerical_gradient(loss_W, self.params['W1'])\n",
    "        grads['b1'] = numerical_gradient(loss_W, self.params['b1'])\n",
    "        grads['W2'] = numerical_gradient(loss_W, self.params['W2'])\n",
    "        grads['b2'] = numerical_gradient(loss_W, self.params['b2'])\n",
    "        \n",
    "        return grads\n",
    "        \n",
    "    def gradient(self, x, t):\n",
    "        W1, W2 = self.params['W1'], self.params['W2']\n",
    "        b1, b2 = self.params['b1'], self.params['b2']\n",
    "        grads = {}\n",
    "        \n",
    "        batch_num = x.shape[0]\n",
    "        \n",
    "        # forward\n",
    "        a1 = np.dot(x, W1) + b1\n",
    "        z1 = sigmoid(a1)\n",
    "        a2 = np.dot(z1, W2) + b2\n",
    "        y = softmax(a2)\n",
    "        \n",
    "        # backward\n",
    "        dy = (y - t) / batch_num\n",
    "        grads['W2'] = np.dot(z1.T, dy)\n",
    "        grads['b2'] = np.sum(dy, axis=0)\n",
    "        \n",
    "        dz1 = np.dot(dy, W2.T)\n",
    "        da1 = sigmoid_grad(a1) * dz1\n",
    "        grads['W1'] = np.dot(x.T, da1)\n",
    "        grads['b1'] = np.sum(da1, axis=0)\n",
    "\n",
    "        return grads\n",
    "    \n",
    "net = TwoLayerNet(input_size=784, hidden_size=100, output_size=10)\n",
    "print(net.params['W1'].shape)\n",
    "print(net.params['b1'].shape)\n",
    "print(net.params['W2'].shape)\n",
    "print(net.params['b2'].shape)"
   ]
  },
  {
   "cell_type": "code",
   "execution_count": 23,
   "metadata": {},
   "outputs": [
    {
     "name": "stdout",
     "output_type": "stream",
     "text": [
      "train acc, test acc | 0.09871666666666666, 0.098\n",
      "train acc, test acc | 0.7733333333333333, 0.781\n",
      "train acc, test acc | 0.8757833333333334, 0.8814\n",
      "train acc, test acc | 0.8991666666666667, 0.9019\n",
      "train acc, test acc | 0.9084, 0.9101\n",
      "train acc, test acc | 0.91485, 0.9171\n",
      "train acc, test acc | 0.91925, 0.923\n",
      "train acc, test acc | 0.9232166666666667, 0.9257\n",
      "train acc, test acc | 0.9269666666666667, 0.9292\n",
      "train acc, test acc | 0.9309166666666666, 0.9325\n",
      "train acc, test acc | 0.93335, 0.9348\n",
      "train acc, test acc | 0.9354166666666667, 0.9348\n",
      "train acc, test acc | 0.9378833333333333, 0.9369\n",
      "train acc, test acc | 0.9406333333333333, 0.9402\n",
      "train acc, test acc | 0.9424833333333333, 0.9404\n",
      "train acc, test acc | 0.945, 0.9418\n",
      "train acc, test acc | 0.9460333333333333, 0.9432\n"
     ]
    },
    {
     "data": {
      "image/png": "[encoded data removed]",
      "text/plain": [
       "<Figure size 432x288 with 1 Axes>"
      ]
     },
     "metadata": {},
     "output_type": "display_data"
    }
   ],
   "source": [
    "from master.dataset.mnist import load_mnist\n",
    "\n",
    "\n",
    "(x_train, t_train), (x_test, t_test) = load_mnist(normalize=True, one_hot_label=True)\n",
    "\n",
    "network = TwoLayerNet(input_size=784, hidden_size=50, output_size=10)\n",
    "\n",
    "# 하이퍼파라미터\n",
    "iters_num = 10000   # 반복 횟수\n",
    "train_size = x_train.shape[0]\n",
    "batch_size = 100    # 미니배치 크기\n",
    "learning_rate = 0.1\n",
    "\n",
    "train_loss_list = []\n",
    "train_acc_list = []\n",
    "test_acc_list = []\n",
    "\n",
    "# 1에폭당 반복 수\n",
    "iter_per_epoch = max(train_size / batch_size, 1)\n",
    "\n",
    "for i in range(iters_num):\n",
    "    # 미니배치 획득\n",
    "    batch_mask = np.random.choice(train_size, batch_size)\n",
    "    x_batch = x_train[batch_mask]\n",
    "    t_batch = t_train[batch_mask]\n",
    "    \n",
    "    # 기울기 계산\n",
    "    grad = network.gradient(x_batch, t_batch)\n",
    "    \n",
    "    # 매개변수 갱신\n",
    "    for key in ('W1', 'b1', 'W2', 'b2'):\n",
    "        network.params[key] -= learning_rate * grad[key]\n",
    "    \n",
    "    # 학습 경과 기록\n",
    "    loss = network.loss(x_batch, t_batch)\n",
    "    train_loss_list.append(loss)\n",
    "    \n",
    "    # 1에폭당 정확도 계산\n",
    "    if i % iter_per_epoch == 0:\n",
    "        train_acc = network.accuracy(x_train, t_train)\n",
    "        test_acc = network.accuracy(x_test, t_test)\n",
    "        train_acc_list.append(train_acc)\n",
    "        test_acc_list.append(test_acc)\n",
    "        print(\"train acc, test acc | \" + str(train_acc) + \", \" + str(test_acc))\n",
    "\n",
    "\n",
    "# 시각화\n",
    "markers = {'train': 'o', 'test': 's'}\n",
    "x = np.arange(len(train_acc_list))\n",
    "plt.plot(x, train_acc_list, label='train acc')\n",
    "plt.plot(x, test_acc_list, label='test acc', linestyle='--')\n",
    "plt.xlabel(\"epochs\")\n",
    "plt.ylabel(\"accuracy\")\n",
    "plt.ylim(0, 1.0)\n",
    "plt.legend(loc='lower right')\n",
    "plt.show()"
   ]
  }
 ],
 "metadata": {
  "kernelspec": {
   "display_name": "Python 3",
   "language": "python",
   "name": "python3"
  },
  "language_info": {
   "codemirror_mode": {
    "name": "ipython",
    "version": 3
   },
   "file_extension": ".py",
   "mimetype": "text/x-python",
   "name": "python",
   "nbconvert_exporter": "python",
   "pygments_lexer": "ipython3",
   "version": "3.6.8"
  }
 },
 "nbformat": 4,
 "nbformat_minor": 2
}
